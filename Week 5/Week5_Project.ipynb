{
 "cells": [
  {
   "cell_type": "markdown",
   "metadata": {
    "colab_type": "text",
    "id": "ofzy8xHIXdQF"
   },
   "source": [
    "[Bag of Words Meets Bags of Popcorn](https://www.kaggle.com/c/word2vec-nlp-tutorial/data)\n",
    "======\n",
    "\n",
    "## Data Set\n",
    "\n",
    "The labeled data set consists of 50,000 IMDB movie reviews, specially selected for sentiment analysis. The sentiment of reviews is binary, meaning the IMDB rating < 5 results in a sentiment score of 0, and rating >=7 have a sentiment score of 1. No individual movie has more than 30 reviews. The 25,000 review labeled training set does not include any of the same movies as the 25,000 review test set. In addition, there are another 50,000 IMDB reviews provided without any rating labels.\n",
    "\n",
    "## File descriptions\n",
    "\n",
    "labeledTrainData - The labeled training set. The file is tab-delimited and has a header row followed by 25,000 rows containing an id, sentiment, and text for each review.\n",
    "## Data fields\n",
    "\n",
    "* id - Unique ID of each review\n",
    "* sentiment - Sentiment of the review; 1 for positive reviews and 0 for negative reviews\n",
    "* review - Text of the review\n",
    "\n",
    "## Objective\n",
    "Objective of this dataset is base on **review** we predict **sentiment** (positive or negative) so X is **review** column and y is **sentiment** column"
   ]
  },
  {
   "cell_type": "markdown",
   "metadata": {
    "colab_type": "text",
    "id": "dub6uxUzXdQH"
   },
   "source": [
    "## 1. Load Dataset\n",
    "\n",
    "Let's first of all have a look at the data. You can download the file `labeledTrainData.tsv` on the [Kaggle website of the competition](https://www.kaggle.com/c/word2vec-nlp-tutorial/data), or on our [Google Drive](https://drive.google.com/file/d/1a1Lyn7ihikk3klAX26fgO3YsGdWHWoK5/view?usp=sharing)\n"
   ]
  },
  {
   "cell_type": "code",
   "execution_count": 1,
   "metadata": {
    "colab": {},
    "colab_type": "code",
    "id": "y1WU9XkYXdQI"
   },
   "outputs": [
    {
     "name": "stderr",
     "output_type": "stream",
     "text": [
      "[nltk_data] Downloading package punkt to\n",
      "[nltk_data]     C:\\Users\\msi\\AppData\\Roaming\\nltk_data...\n",
      "[nltk_data]   Package punkt is already up-to-date!\n",
      "[nltk_data] Downloading package averaged_perceptron_tagger to\n",
      "[nltk_data]     C:\\Users\\msi\\AppData\\Roaming\\nltk_data...\n",
      "[nltk_data]   Package averaged_perceptron_tagger is already up-to-\n",
      "[nltk_data]       date!\n",
      "[nltk_data] Downloading package stopwords to\n",
      "[nltk_data]     C:\\Users\\msi\\AppData\\Roaming\\nltk_data...\n",
      "[nltk_data]   Package stopwords is already up-to-date!\n",
      "[nltk_data] Downloading package wordnet to\n",
      "[nltk_data]     C:\\Users\\msi\\AppData\\Roaming\\nltk_data...\n",
      "[nltk_data]   Package wordnet is already up-to-date!\n"
     ]
    }
   ],
   "source": [
    "import nltk\n",
    "nltk.download('punkt')\n",
    "nltk.download('averaged_perceptron_tagger')\n",
    "nltk.download('stopwords')\n",
    "nltk.download('wordnet')\n",
    "\n",
    "import pandas as pd\n",
    "import numpy as np\n",
    "import csv\n",
    "import zipfile\n",
    "import glob\n",
    "from string import digits\n",
    "import random\n",
    "\n",
    "import re\n",
    "import string\n",
    "import nltk\n",
    "from nltk.tokenize import word_tokenize\n",
    "from nltk.corpus import stopwords\n",
    "from nltk.stem.wordnet import WordNetLemmatizer\n",
    "from nltk.corpus.reader.wordnet import NOUN, VERB, ADJ\n",
    "from sklearn.feature_extraction.text import CountVectorizer\n",
    "from sklearn.model_selection import train_test_split\n",
    "from sklearn.naive_bayes import MultinomialNB\n",
    "from sklearn import metrics\n",
    "from collections import Counter\n",
    "from collections import defaultdict\n",
    "import math"
   ]
  },
  {
   "cell_type": "code",
   "execution_count": 2,
   "metadata": {
    "colab": {},
    "colab_type": "code",
    "id": "_iH9rAw7XdQL"
   },
   "outputs": [
    {
     "data": {
      "text/html": [
       "<div>\n",
       "<style scoped>\n",
       "    .dataframe tbody tr th:only-of-type {\n",
       "        vertical-align: middle;\n",
       "    }\n",
       "\n",
       "    .dataframe tbody tr th {\n",
       "        vertical-align: top;\n",
       "    }\n",
       "\n",
       "    .dataframe thead th {\n",
       "        text-align: right;\n",
       "    }\n",
       "</style>\n",
       "<table border=\"1\" class=\"dataframe\">\n",
       "  <thead>\n",
       "    <tr style=\"text-align: right;\">\n",
       "      <th></th>\n",
       "      <th>id</th>\n",
       "      <th>sentiment</th>\n",
       "      <th>review</th>\n",
       "    </tr>\n",
       "  </thead>\n",
       "  <tbody>\n",
       "    <tr>\n",
       "      <td>0</td>\n",
       "      <td>5814_8</td>\n",
       "      <td>1</td>\n",
       "      <td>With all this stuff going down at the moment w...</td>\n",
       "    </tr>\n",
       "    <tr>\n",
       "      <td>1</td>\n",
       "      <td>2381_9</td>\n",
       "      <td>1</td>\n",
       "      <td>\\The Classic War of the Worlds\\\" by Timothy Hi...</td>\n",
       "    </tr>\n",
       "    <tr>\n",
       "      <td>2</td>\n",
       "      <td>7759_3</td>\n",
       "      <td>0</td>\n",
       "      <td>The film starts with a manager (Nicholas Bell)...</td>\n",
       "    </tr>\n",
       "    <tr>\n",
       "      <td>3</td>\n",
       "      <td>3630_4</td>\n",
       "      <td>0</td>\n",
       "      <td>It must be assumed that those who praised this...</td>\n",
       "    </tr>\n",
       "    <tr>\n",
       "      <td>4</td>\n",
       "      <td>9495_8</td>\n",
       "      <td>1</td>\n",
       "      <td>Superbly trashy and wondrously unpretentious 8...</td>\n",
       "    </tr>\n",
       "  </tbody>\n",
       "</table>\n",
       "</div>"
      ],
      "text/plain": [
       "       id  sentiment                                             review\n",
       "0  5814_8          1  With all this stuff going down at the moment w...\n",
       "1  2381_9          1  \\The Classic War of the Worlds\\\" by Timothy Hi...\n",
       "2  7759_3          0  The film starts with a manager (Nicholas Bell)...\n",
       "3  3630_4          0  It must be assumed that those who praised this...\n",
       "4  9495_8          1  Superbly trashy and wondrously unpretentious 8..."
      ]
     },
     "execution_count": 2,
     "metadata": {},
     "output_type": "execute_result"
    }
   ],
   "source": [
    "# Read dataset with extra params sep='\\t', encoding=\"latin-1\"\n",
    "data = pd.read_csv(\"labeledTrainData.csv\",sep='\\t', encoding='latin-1')\n",
    "data.head()"
   ]
  },
  {
   "cell_type": "markdown",
   "metadata": {
    "colab_type": "text",
    "id": "bbuaIdhWXdQO"
   },
   "source": [
    "## 2. Preprocessing"
   ]
  },
  {
   "cell_type": "code",
   "execution_count": 3,
   "metadata": {},
   "outputs": [],
   "source": [
    "X, Y = data['review'],data['sentiment']\n",
    "\n",
    "X_train, X_test, y_train, y_test = train_test_split(X, Y, test_size=0.2, random_state=42)"
   ]
  },
  {
   "cell_type": "code",
   "execution_count": 4,
   "metadata": {},
   "outputs": [
    {
     "name": "stdout",
     "output_type": "stream",
     "text": [
      "Counter({0: 10019, 1: 9981})\n",
      "Counter({1: 2519, 0: 2481})\n"
     ]
    }
   ],
   "source": [
    "print(Counter(y_train))\n",
    "print(Counter(y_test))"
   ]
  },
  {
   "cell_type": "code",
   "execution_count": 5,
   "metadata": {
    "colab": {},
    "colab_type": "code",
    "id": "3v220Tp_XdQS"
   },
   "outputs": [],
   "source": [
    "def preformat(sentence):\n",
    "\n",
    "    # Clean text data\n",
    "    sentence = sentence.lower() # Lower the text sentence\n",
    "    sentence = sentence.translate(str.maketrans('', '', digits)) # Delete digits number in text sentence\n",
    "    sentence = re.sub(r\"http\\S+\", \"\", sentence) # Remove URL in text sentence\n",
    "    sentence = sentence.translate ({ord(c): \" \" for c in \",.:'!@#$%^&*()[]{}/<>?\\\\|`~=_+\"\"\"})  # Remove special character in text sentence\n",
    "    sentence = sentence.replace(\" br \",\" \").replace(\" a \",\" \").replace(\" p \",\" \").replace(\" div \",\" \").replace(\" span \",\" \").replace(\" s \",\" \").replace(\" i \",\" \")\n",
    "    \n",
    "    # Processing text data with NLP\n",
    "    tokens = word_tokenize(sentence)\n",
    "    tags = nltk.pos_tag(tokens)\n",
    "\n",
    "    lemmatizer = WordNetLemmatizer()\n",
    "    words = \"\"\n",
    "\n",
    "    for i, token in enumerate(tokens):\n",
    "        pos_tag = tags[i][1]\n",
    "        if pos_tag.startswith('N'):\n",
    "            lemma = lemmatizer.lemmatize(token, pos=NOUN)\n",
    "            words += lemma + \" \"\n",
    "        elif pos_tag.startswith('V'):\n",
    "            lemma = lemmatizer.lemmatize(token, pos=VERB)\n",
    "            words += lemma + \" \"\n",
    "        elif pos_tag.startswith('J'):\n",
    "            lemma = lemmatizer.lemmatize(token, pos=ADJ)\n",
    "            words += lemma + \" \"\n",
    "        else:\n",
    "            lemma = token\n",
    "            words += \" \"\n",
    "\n",
    "    return ' '.join(words.split())"
   ]
  },
  {
   "cell_type": "code",
   "execution_count": 6,
   "metadata": {
    "colab": {},
    "colab_type": "code",
    "id": "-o5ED67LXdQV"
   },
   "outputs": [
    {
     "name": "stdout",
     "output_type": "stream",
     "text": [
      "---Text before formatting: \n",
      "With all this stuff going down at the moment with MJ i've started listening to his music, watching the odd documentary here and there, watched The Wiz and watched Moonwalker again. Maybe i just want to get a certain insight into this guy who i thought was really cool in the eighties just to maybe make up my mind whether he is guilty or innocent. Moonwalker is part biography, part feature film which i remember going to see at the cinema when it was originally released. Some of it has subtle messages about MJ's feeling towards the press and also the obvious message of drugs are bad m'kay.<br /><br />Visually impressive but of course this is all about Michael Jackson so unless you remotely like MJ in anyway then you are going to hate this and find it boring. Some may call MJ an egotist for consenting to the making of this movie BUT MJ and most of his fans would say that he made it for the fans which if true is really nice of him.<br /><br />The actual feature film bit when it finally starts is only on for 20 minutes or so excluding the Smooth Criminal sequence and Joe Pesci is convincing as a psychopathic all powerful drug lord. Why he wants MJ dead so bad is beyond me. Because MJ overheard his plans? Nah, Joe Pesci's character ranted that he wanted people to know it is he who is supplying drugs etc so i dunno, maybe he just hates MJ's music.<br /><br />Lots of cool things in this like MJ turning into a car and a robot and the whole Speed Demon sequence. Also, the director must have had the patience of a saint when it came to filming the kiddy Bad sequence as usually directors hate working with one kid let alone a whole bunch of them performing a complex dance scene.<br /><br />Bottom line, this movie is for people who like MJ on one level or another (which i think is most people). If not, then stay away. It does try and give off a wholesome message and ironically MJ's bestest buddy in this movie is a girl! Michael Jackson is truly one of the most talented people ever to grace this planet but is he guilty? Well, with all the attention i've gave this subject....hmmm well i don't know because people can be different behind closed doors, i know this for a fact. He is either an extremely nice but stupid guy or one of the most sickest liars. I hope he is not the latter.\n",
      "---Text after formatting: \n",
      "stuff go moment mj ve start listen music watch odd documentary watch wiz watch moonwalker want get certain insight guy think be cool eighty make mind be guilty innocent moonwalker be part biography part feature film remember go see cinema be release have subtle message mj feeling press obvious message drug be bad m kay impressive course be michael jackson remotely mj be go hate find bore call mj egotist consent making movie mj most fan say make fan true be nice actual feature film bit start be minute exclude smooth criminal sequence joe pesci be convince psychopathic powerful drug lord want mj dead bad be plan nah joe pesci character rant want people know be be supply drug dunno hat mj music lot cool thing like mj turn car robot whole speed demon sequence director have have patience saint come film kiddy bad sequence director hate work kid let alone whole bunch perform complex dance scene bottom line movie be people like mj level think be most people stay do try give wholesome message mj best buddy movie be girl michael jackson be talented people grace planet be guilty attention ve give subject hmmm t know people be different closed door know fact be nice stupid guy sick liar hope be latter\n"
     ]
    }
   ],
   "source": [
    "print(\"---Text before formatting: \")\n",
    "print(data['review'][0])\n",
    "# Text after formatting\n",
    "print(\"---Text after formatting: \")\n",
    "print(preformat(data['review'][0]))"
   ]
  },
  {
   "cell_type": "code",
   "execution_count": 7,
   "metadata": {
    "colab": {},
    "colab_type": "code",
    "id": "zjzOxu4MXdQZ"
   },
   "outputs": [],
   "source": [
    "stopword = set(stopwords.words('english'))\n",
    "\n",
    "def build_vocab(X):\n",
    "    \"\"\"\n",
    "    Build vocabulary from dataset\n",
    "    \"\"\"\n",
    "    vocab = {}\n",
    "    for sentence in X:\n",
    "        sentence = preformat(sentence)\n",
    "        for word in sentence.split():\n",
    "            if word in stopword:\n",
    "                sentence.replace(word, \"\")\n",
    "                continue\n",
    "            if word not in vocab:\n",
    "                idx = len(vocab)\n",
    "                vocab[word] = idx\n",
    "    return vocab"
   ]
  },
  {
   "cell_type": "code",
   "execution_count": 8,
   "metadata": {},
   "outputs": [
    {
     "name": "stdout",
     "output_type": "stream",
     "text": [
      "kelsey: 28199\n",
      "ambitiousness: 48756\n",
      "pornoes: 31941\n",
      "waspish: 35985\n",
      "incur: 20641\n",
      "cecile: 16814\n",
      "babtise: 15866\n",
      "innsbruck: 39388\n",
      "roeves: 34373\n",
      "wonderfalls: 34121\n",
      "knockoff: 978\n",
      "castelnuovo: 18144\n",
      "marianne: 4324\n",
      "panic: 7374\n",
      "heaven: 1155\n",
      "bushy: 19161\n",
      "murdock: 20867\n",
      "marvel: 6310\n",
      "enthralling: 44095\n",
      "battle: 3407\n"
     ]
    }
   ],
   "source": [
    "list_vocab = build_vocab(X_train);\n",
    "# Select randomly 20 vocab in X_train and the number of occurrences of it in X_train\n",
    "for i, val in enumerate(random.sample(list(list_vocab), 20)):\n",
    "    print(val + \": \" + str(list_vocab[val]))"
   ]
  },
  {
   "cell_type": "markdown",
   "metadata": {
    "colab_type": "text",
    "id": "COr1xR7PXdQc"
   },
   "source": [
    "## 3. Create Model and Train "
   ]
  },
  {
   "cell_type": "code",
   "execution_count": 9,
   "metadata": {
    "colab": {},
    "colab_type": "code",
    "id": "tOpwINJmXdQd"
   },
   "outputs": [],
   "source": [
    "def train_naive_bayes(texts, labels, target_classes, alpha=1):  \n",
    "    \"\"\"\n",
    "    Train a multinomial Naive Bayes model\n",
    "    \"\"\"\n",
    "    ndoc = 0\n",
    "    nc = defaultdict(int)   # map from a class label to number of documents in the class\n",
    "    logprior = dict()\n",
    "    loglikelihood = dict()\n",
    "    count = defaultdict(int)  # count the occurrences of w in documents of class c\n",
    "\n",
    "    vocab = build_vocab(texts)\n",
    "    # Training\n",
    "    for s, c in zip(texts, labels):\n",
    "        ndoc += 1\n",
    "        nc[c] += 1\n",
    "        for w in s.split():\n",
    "            if w in vocab:\n",
    "                count[(w,c)] += 1\n",
    "    \n",
    "    vocab_size = len(vocab)\n",
    "    for c in target_classes:\n",
    "        logprior[c] = math.log(nc[c]/ndoc)\n",
    "        sum_ = 0\n",
    "        for w in vocab.keys():\n",
    "            if (w,c) not in count: count[(w,c)] = 0\n",
    "            sum_ += count[(w,c)]\n",
    "        \n",
    "        for w in vocab.keys():\n",
    "            loglikelihood[(w,c)] = math.log( (count[(w,c)] + alpha) / (sum_ + alpha * vocab_size) )\n",
    "    \n",
    "    return logprior, loglikelihood, vocab"
   ]
  },
  {
   "cell_type": "code",
   "execution_count": 10,
   "metadata": {},
   "outputs": [],
   "source": [
    "def test_naive_bayes(testdoc, logprior, loglikelihood, target_classes, vocab):\n",
    "    sum_ = {}\n",
    "    for c in  target_classes:\n",
    "        sum_[c] = logprior[c]\n",
    "        for w in testdoc.split():\n",
    "            if w in vocab:\n",
    "                sum_[c] += loglikelihood[(w,c)]\n",
    "    # sort keys in sum_ by value\n",
    "    sorted_keys = sorted(sum_.keys(), key=lambda x: sum_[x], reverse=True)\n",
    "    return sorted_keys[0]"
   ]
  },
  {
   "cell_type": "code",
   "execution_count": 13,
   "metadata": {},
   "outputs": [
    {
     "name": "stdout",
     "output_type": "stream",
     "text": [
      "{0, 1}\n"
     ]
    }
   ],
   "source": [
    "target_classes = set()\n",
    "for index in y_train:\n",
    "    target_classes.add(index)\n",
    "\n",
    "print(target_classes)"
   ]
  },
  {
   "cell_type": "code",
   "execution_count": 14,
   "metadata": {},
   "outputs": [],
   "source": [
    "logprior, loglikelihood, vocab = train_naive_bayes(X_train, y_train, target_classes)\n"
   ]
  },
  {
   "cell_type": "code",
   "execution_count": 15,
   "metadata": {},
   "outputs": [
    {
     "name": "stdout",
     "output_type": "stream",
     "text": [
      "Accuracy score: 0.826800\n"
     ]
    }
   ],
   "source": [
    "predicted_labels = [test_naive_bayes(s, logprior, loglikelihood, target_classes, vocab)\n",
    "                    for s in X_test]\n",
    "\n",
    "print('Accuracy score: %f' % metrics.accuracy_score(y_test, predicted_labels))"
   ]
  },
  {
   "cell_type": "markdown",
   "metadata": {
    "colab_type": "text",
    "id": "KYdoVMx_XdQf"
   },
   "source": [
    "## 4. Evaluate Model"
   ]
  },
  {
   "cell_type": "code",
   "execution_count": 16,
   "metadata": {
    "colab": {},
    "colab_type": "code",
    "id": "Z2ZOzHoaXdQg"
   },
   "outputs": [
    {
     "name": "stdout",
     "output_type": "stream",
     "text": [
      "Accuracy score: 0.826800\n"
     ]
    }
   ],
   "source": [
    "predicted_labels = [test_naive_bayes(s, logprior, loglikelihood, target_classes, vocab)\n",
    "                    for s in X_test]\n",
    "\n",
    "print('Accuracy score: %f' % metrics.accuracy_score(y_test, predicted_labels))"
   ]
  },
  {
   "cell_type": "code",
   "execution_count": 17,
   "metadata": {},
   "outputs": [
    {
     "name": "stdout",
     "output_type": "stream",
     "text": [
      "  Precision: 0.826974\n",
      "  Recall: 0.826887\n",
      "  F1: 0.826795\n"
     ]
    }
   ],
   "source": [
    "print('  Precision: %f' % metrics.precision_score(y_test, predicted_labels, average='micro'))\n",
    "print('  Recall: %f' % metrics.recall_score(y_test, predicted_labels, average='micro'))\n",
    "print('  F1: %f' % metrics.f1_score(y_test, predicted_labels, average='micro'))"
   ]
  },
  {
   "cell_type": "code",
   "execution_count": 18,
   "metadata": {},
   "outputs": [
    {
     "name": "stdout",
     "output_type": "stream",
     "text": [
      "Macro-averaged f1: 0.826795\n",
      "Micro-averaged f1: 0.826800\n"
     ]
    }
   ],
   "source": [
    "print('Macro-averaged f1: %f' % metrics.f1_score(y_test, predicted_labels, average='macro'))\n",
    "print('Micro-averaged f1: %f' % metrics.f1_score(y_test, predicted_labels, average='micro'))"
   ]
  },
  {
   "cell_type": "code",
   "execution_count": 19,
   "metadata": {},
   "outputs": [
    {
     "name": "stdout",
     "output_type": "stream",
     "text": [
      "              precision    recall  f1-score   support\n",
      "\n",
      "           0      0.817     0.838     0.828      2481\n",
      "           1      0.837     0.815     0.826      2519\n",
      "\n",
      "    accuracy                          0.827      5000\n",
      "   macro avg      0.827     0.827     0.827      5000\n",
      "weighted avg      0.827     0.827     0.827      5000\n",
      "\n"
     ]
    }
   ],
   "source": [
    "print(metrics.classification_report(y_test, predicted_labels, digits=3))"
   ]
  }
 ],
 "metadata": {
  "colab": {
   "collapsed_sections": [],
   "name": "Week5_Project.ipynb",
   "provenance": []
  },
  "kernelspec": {
   "display_name": "Python 3",
   "language": "python",
   "name": "python3"
  },
  "language_info": {
   "codemirror_mode": {
    "name": "ipython",
    "version": 3
   },
   "file_extension": ".py",
   "mimetype": "text/x-python",
   "name": "python",
   "nbconvert_exporter": "python",
   "pygments_lexer": "ipython3",
   "version": "3.7.4"
  }
 },
 "nbformat": 4,
 "nbformat_minor": 1
}
